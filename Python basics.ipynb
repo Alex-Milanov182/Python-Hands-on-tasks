{
 "cells": [
  {
   "cell_type": "markdown",
   "metadata": {},
   "source": [
    "<h3><b>(T.1) Test the environment </b></h3>\n",
    "<p>Print Hello world on the screen </p>"
   ]
  },
  {
   "cell_type": "code",
   "execution_count": 1,
   "metadata": {},
   "outputs": [
    {
     "name": "stdout",
     "output_type": "stream",
     "text": [
      "Hello World\n"
     ]
    }
   ],
   "source": [
    "#put your code here\n",
    "print(\"Hello World\")"
   ]
  },
  {
   "cell_type": "markdown",
   "metadata": {},
   "source": [
    "<h3><b>(T.2) Swap the values of 2 variables </b></h3>\n",
    "<p>\n",
    "Declare 2 variables a and b. a=10, b=20 </br>\n",
    "Swap the values between the 2 variables and print them on the screen. Try not using the pythonic way, but rather use a third variable to perform the swap</br>\n",
    "Result:\n",
    "a = 20\n",
    "b = 10\n",
    "</p>"
   ]
  },
  {
   "cell_type": "code",
   "execution_count": 4,
   "metadata": {},
   "outputs": [
    {
     "name": "stdout",
     "output_type": "stream",
     "text": [
      "a = 30\n",
      "b = 50\n"
     ]
    }
   ],
   "source": [
    "#put your code here\n",
    "\n",
    "a=50\n",
    "b=30\n",
    "\n",
    "\n",
    "c=a\n",
    "a=b\n",
    "b=c\n",
    "\n",
    "print(\"a = \" + str(a))\n",
    "print(\"b = \" + str(b))"
   ]
  },
  {
   "cell_type": "markdown",
   "metadata": {},
   "source": [
    "<h3><b>(T.3) Odd or even</b></h3>\n",
    "<p>\n",
    "Write a program to check if a number is odd or even. Use input() to enter the number.\n",
    "</p>"
   ]
  },
  {
   "cell_type": "code",
   "execution_count": 17,
   "metadata": {},
   "outputs": [
    {
     "name": "stdout",
     "output_type": "stream",
     "text": [
      "Enter number: 44\n",
      "Number 44 is even\n"
     ]
    }
   ],
   "source": [
    "#put your code here\n",
    "\n",
    "number = int(input(\"Enter number: \"))\n",
    "             \n",
    "if (number % 2) == 0: #checking if the division has residuals\n",
    "             print(\"Number \" + str(number) + \" is even\")\n",
    "                           \n",
    "else:\n",
    "             print(\"Number \" + str(number) + \" is not even\")\n",
    "                           "
   ]
  },
  {
   "cell_type": "markdown",
   "metadata": {},
   "source": [
    "<h3><b>(T.4) Calculate exam grade</b></h3>\n",
    "<p>\n",
    "Create a program that gets number of points as input (between 0-100) and calculates the grade of a student. </br>\n",
    "Scoring is as below. Can you do this using a dictionary?\n",
    "<table>\n",
    "<tr><td>Grade</td><td>Points</td></tr>\n",
    "<tr><td>A</td><td>90</td></tr>\n",
    "<tr><td>B</td><td>between 80 and 89</td></tr>\n",
    "<tr><td>C</td><td>between 70 and 79</td></tr>\n",
    "<tr><td>D</td><td>between 60 an 69</td></tr>\n",
    "<tr><td>F</td><td>below 60</td></tr>\n",
    "</table>\n",
    "</p>"
   ]
  },
  {
   "cell_type": "code",
   "execution_count": 6,
   "metadata": {
    "collapsed": true
   },
   "outputs": [],
   "source": [
    "def grades(n):\n",
    "    if n > 100 or n < 0:\n",
    "        print(\"Value \" + str(n) +\" is not valid\")\n",
    "    elif n >=90:\n",
    "        print(\"Grade is : A  || \" + str(n) + \" points \"  )\n",
    "    elif n < 90 and n >= 80:\n",
    "        print(\"Grade is : B  || \" + str(n) + \" points \"  )\n",
    "    elif n < 80 and n >= 70:\n",
    "        print(\"Grade is : C  || \" + str(n) + \" points \"  )\n",
    "    elif n < 70 and n >= 60:\n",
    "        print(\"Grade is : D  || \" + str(n) + \" points \"  )\n",
    "    elif n < 60:\n",
    "        print(\"Grade is : F  || \" + str(n) + \" points \"  )"
   ]
  },
  {
   "cell_type": "code",
   "execution_count": 10,
   "metadata": {},
   "outputs": [
    {
     "name": "stdout",
     "output_type": "stream",
     "text": [
      "Value 150 is not valid\n"
     ]
    }
   ],
   "source": [
    "grades(150)"
   ]
  },
  {
   "cell_type": "markdown",
   "metadata": {},
   "source": [
    "<h3><b>(T.5)  Sum n numbers</b></h3>\n",
    "<p>\n",
    "Calculate the sum of the first n numbers starting from 0.\n",
    "Allow user input for n <= 100\n",
    "</p>"
   ]
  },
  {
   "cell_type": "code",
   "execution_count": 24,
   "metadata": {
    "collapsed": true
   },
   "outputs": [],
   "source": [
    "#def sum_numbers(n):\n",
    "#   \n",
    "#    if n > 100:\n",
    "#        return\n",
    "#    else:\n",
    "#        print(sum(list(range(n))))\n",
    "        \n",
    "        \n",
    "        \n",
    "        \n",
    "def sum_numbers(n):\n",
    "    result = 0\n",
    "    if n <= 100:\n",
    "        for i in range(n):\n",
    "            result += i\n",
    "        print(result)\n",
    "    else:\n",
    "        print(\"Value \"+ str(n) + \" is not valid\")\n",
    "                "
   ]
  },
  {
   "cell_type": "code",
   "execution_count": 25,
   "metadata": {},
   "outputs": [
    {
     "name": "stdout",
     "output_type": "stream",
     "text": [
      "780\n"
     ]
    }
   ],
   "source": [
    "sum_numbers(40)"
   ]
  },
  {
   "cell_type": "markdown",
   "metadata": {},
   "source": [
    "<h3><b>(T.6) Max value in a list</b></h3>\n",
    "<p>\n",
    "Write a program to find the max value in a list </br>\n",
    "You can't use the max() function or any other built in function.\n",
    "\n",
    "Example list:\n",
    "[10, 15, 7, 255, 13, 103]\n",
    "</p>"
   ]
  },
  {
   "cell_type": "code",
   "execution_count": 27,
   "metadata": {
    "collapsed": true
   },
   "outputs": [],
   "source": [
    "values = [200,543,111,768,356,222,453,789]\n",
    "\n",
    "#def max_value(n):\n",
    "#    print(max(values))\n",
    "\n",
    "\n",
    "def max_value(n):\n",
    "    max_num = values[0]\n",
    "    for num in values:\n",
    "        if num > max_num:\n",
    "            max_num = num\n",
    "    print(max_num)"
   ]
  },
  {
   "cell_type": "code",
   "execution_count": 28,
   "metadata": {},
   "outputs": [
    {
     "name": "stdout",
     "output_type": "stream",
     "text": [
      "789\n"
     ]
    }
   ],
   "source": [
    "max_value(values)"
   ]
  },
  {
   "cell_type": "markdown",
   "metadata": {},
   "source": [
    "<h3><b>(T.7) Calculate sum of digits</b></h3>\n",
    "<p>\n",
    "Given a number N calculate the sum of all digits of N\n",
    "\n",
    "Example:\n",
    "N = 4325 </br>\n",
    "sum = 4 + 3 + 2 + 5 </br>\n",
    "sum = 14\n",
    "</p>"
   ]
  },
  {
   "cell_type": "code",
   "execution_count": 7,
   "metadata": {
    "collapsed": true
   },
   "outputs": [],
   "source": [
    "def sum_of_difits(n):\n",
    "    value = [n]\n",
    "    result = list(map(int,str(value[0])))\n",
    "    sum_value=sum(result)\n",
    "    print(sum_value)"
   ]
  },
  {
   "cell_type": "code",
   "execution_count": 8,
   "metadata": {},
   "outputs": [
    {
     "name": "stdout",
     "output_type": "stream",
     "text": [
      "6\n"
     ]
    }
   ],
   "source": [
    "sum_of_difits(123)"
   ]
  },
  {
   "cell_type": "markdown",
   "metadata": {},
   "source": [
    "<h3><b>(T.8) Number guessing game</b></h3>\n",
    "<p>\n",
    "Create a number guessing game where the player needs to guess a number between 1 and 100 (should be randomly generated). </br>\n",
    "Every time a player is prompted to take a guess and after each try they should get a response if their number is higher or lower than the generated number</br></br>\n",
    "Example:</br>\n",
    "Try to guess a number between 1 and 100 </br>\n",
    "The number is greater than 50 </br>\n",
    "The number is greater than 60 </br> \n",
    "The number is greater than 70 </br>\n",
    "The number is greater than 80 </br>\n",
    "The number is less than 90 </br>\n",
    "The number is greater than 85 </br>\n",
    "Correct! Number is 87\n",
    "\n",
    "</p>\n"
   ]
  },
  {
   "cell_type": "code",
   "execution_count": 1,
   "metadata": {
    "collapsed": true
   },
   "outputs": [],
   "source": [
    "import random\n",
    "\n",
    "number_to_guess = random.randint(1,100)    "
   ]
  },
  {
   "cell_type": "code",
   "execution_count": 6,
   "metadata": {},
   "outputs": [
    {
     "name": "stdout",
     "output_type": "stream",
     "text": [
      "Enter your guess:34\n",
      "The number is lower than: 34\n",
      "Enter your guess:33\n",
      "33\n"
     ]
    }
   ],
   "source": [
    "x = int(input('Enter your guess:'))\n",
    "if x == number_to_guess:\n",
    "    print(\"Correct ! The number is: \" + str(number_to_guess))\n",
    "elif x > number_to_guess:\n",
    "    print(\"The number is lower than: \" + str(x))\n",
    "    print(int(input('Enter your guess:')))\n",
    "elif x < number_to_guess:\n",
    "    print(\"The number is greater than: \" + str(x))\n",
    "    print(int(input('Enter your guess:')))\n",
    "    "
   ]
  },
  {
   "cell_type": "code",
   "execution_count": 2,
   "metadata": {
    "collapsed": true
   },
   "outputs": [],
   "source": [
    "def guess_number():\n",
    "    x = int(input('Enter your guess:'))\n",
    "    if x == number_to_guess:\n",
    "        print(\"Correct ! The number is: \" + str(number_to_guess))\n",
    "\n",
    "    elif x > number_to_guess:\n",
    "        print(\"The number is lower than: \" + str(x))\n",
    "        return guess_number()\n",
    "    elif x < number_to_guess:\n",
    "        print(\"The number is greater than: \" + str(x))\n",
    "        return guess_number()\n"
   ]
  },
  {
   "cell_type": "code",
   "execution_count": 3,
   "metadata": {},
   "outputs": [
    {
     "name": "stdout",
     "output_type": "stream",
     "text": [
      "Enter your guess:50\n",
      "The number is lower than: 50\n",
      "Enter your guess:40\n",
      "The number is lower than: 40\n",
      "Enter your guess:30\n",
      "The number is lower than: 30\n",
      "Enter your guess:25\n",
      "Correct ! The number is: 25\n"
     ]
    }
   ],
   "source": [
    "guess_number()"
   ]
  },
  {
   "cell_type": "markdown",
   "metadata": {},
   "source": [
    "<h3><b>(T.9) Factorials</b></h3>\n",
    "<h3><b>Note: Starting from this task it is mandatory that all remaining problems are completed using functions.</b></h3>\n",
    "<p>\n",
    "Create a factorial function that returns the factorial of a numbers. The function should accept only positive integers. </br>\n",
    "The factorial of a number is the sum of the multiplication, of all the whole numbers, from our specified number down to 1. </br>\n",
    "Example: </br>\n",
    "The factorial of 6 would be 6 x 5 x 4 x 3 x 2 x 1 = 720\n",
    "\n",
    "</p>\n"
   ]
  },
  {
   "cell_type": "code",
   "execution_count": 9,
   "metadata": {
    "collapsed": true
   },
   "outputs": [],
   "source": [
    "def factorial(n):\n",
    "    fact = 1\n",
    "    for i in range(1, n+1):\n",
    "        fact = fact * i\n",
    "    print(fact)\n",
    "  "
   ]
  },
  {
   "cell_type": "code",
   "execution_count": 14,
   "metadata": {
    "collapsed": true
   },
   "outputs": [],
   "source": [
    "def factorial2(n):\n",
    "    if n == 1:\n",
    "        return n\n",
    "    else:\n",
    "        return n*factorial2(n-1)\n"
   ]
  },
  {
   "cell_type": "code",
   "execution_count": 17,
   "metadata": {},
   "outputs": [
    {
     "data": {
      "text/plain": [
       "24"
      ]
     },
     "execution_count": 17,
     "metadata": {},
     "output_type": "execute_result"
    }
   ],
   "source": [
    "factorial2(4)"
   ]
  },
  {
   "cell_type": "markdown",
   "metadata": {},
   "source": [
    "<h3><b>(T.10) Number of occurencies </b></h3>\n",
    "<p>\n",
    "Create a function that counts how many times certain characters appeared in a word. </br>\n",
    "Return a data structure that stores all results. </br>\n",
    "\n",
    "Example: </br>\n",
    "ADASTRA </br>\n",
    "A -> 3 </br>\n",
    "D -> 1 </br>\n",
    "S -> 1 </br>\n",
    "T -> 1 </br>\n",
    "R -> 1\n",
    "\n",
    "</p>\n"
   ]
  },
  {
   "cell_type": "code",
   "execution_count": 16,
   "metadata": {
    "collapsed": true
   },
   "outputs": [],
   "source": [
    "def count_chars(n): # n is a string !\n",
    "    string = [n]\n",
    "    value = list(map(str,string[0]))\n",
    "    result = dict((i, value.count(i)) for i in value)\n",
    "    print(result)\n",
    "\n",
    "    "
   ]
  },
  {
   "cell_type": "code",
   "execution_count": 17,
   "metadata": {},
   "outputs": [
    {
     "name": "stdout",
     "output_type": "stream",
     "text": [
      "{'A': 3, 'D': 1, 'S': 1, 'T': 1, 'R': 1}\n"
     ]
    }
   ],
   "source": [
    "count_chars('ADASTRA')"
   ]
  },
  {
   "cell_type": "markdown",
   "metadata": {},
   "source": [
    "<h3><b>(T.11) Sum to target </b></h3>\n",
    "<h3><b>Note: Starting from this task it is mandatory that all remaining problems are completed using functions.</b></h3>\n",
    "<p>\n",
    "Given an array of integers nums and an integer target, return the indices of the two numbers as an array such that they add up to target. </br>\n",
    "\n",
    "You may assume that each input would have exactly one solution, and you may not use the same element twice. </br>\n",
    "\n",
    "Example </br>\n",
    "Input: nums = [2,7,11,15], target = 9 </br>\n",
    "Output: [0,1] </br>\n",
    "Explanation: Because nums[0] + nums[1] == 9, we return [0, 1]\n",
    "\n",
    "</p>\n"
   ]
  },
  {
   "cell_type": "code",
   "execution_count": 10,
   "metadata": {
    "collapsed": true
   },
   "outputs": [],
   "source": [
    "array = [1,9,5,8]\n",
    "result = 14\n",
    "\n",
    "def count_array(var1,var2):\n",
    "    for i in range(len(var1)):\n",
    "        for k in range(len(var1)):\n",
    "            if var1[i] + var1[k] == var2:\n",
    "                return i, k "
   ]
  },
  {
   "cell_type": "code",
   "execution_count": 11,
   "metadata": {},
   "outputs": [
    {
     "data": {
      "text/plain": [
       "(1, 2)"
      ]
     },
     "execution_count": 11,
     "metadata": {},
     "output_type": "execute_result"
    }
   ],
   "source": [
    "count_array(array, result)"
   ]
  },
  {
   "cell_type": "code",
   "execution_count": null,
   "metadata": {
    "collapsed": true
   },
   "outputs": [],
   "source": []
  },
  {
   "cell_type": "markdown",
   "metadata": {},
   "source": [
    "<h3><b>(T.12) Numbering ladder</b></h3>\n",
    "<p>\n",
    "Print the following pattern on the screen where n = 5: </br>\n",
    "\n",
    "[1]</br>\n",
    "[1, 2]</br>\n",
    "[1, 2, 3]</br>\n",
    "[1, 2, 3, 4]</br>\n",
    "[1, 2, 3, 4, 5]\n",
    "</p>\n"
   ]
  },
  {
   "cell_type": "code",
   "execution_count": 3,
   "metadata": {
    "collapsed": true
   },
   "outputs": [],
   "source": [
    "def niz(n):\n",
    "    for i in range(n):\n",
    "        for j in range(i+1):\n",
    "            print(j+1, end=\" \")\n",
    "    print()"
   ]
  },
  {
   "cell_type": "code",
   "execution_count": 4,
   "metadata": {},
   "outputs": [
    {
     "name": "stdout",
     "output_type": "stream",
     "text": [
      "1 1 2 1 2 3 1 2 3 4 1 2 3 4 5 \n"
     ]
    }
   ],
   "source": [
    "niz(5)"
   ]
  },
  {
   "cell_type": "markdown",
   "metadata": {},
   "source": [
    "<h3><b>(T.13) Numbering ladder Reversed</b></h3>\n",
    "<p>\n",
    "Print the following pattern on the screen where n = 5: </br>\n",
    "\n",
    "[1, 2, 3, 4, 5]</br>\n",
    "[1, 2, 3, 4]</br>\n",
    "[1, 2, 3]</br>\n",
    "[1, 2]</br>\n",
    "[1]\n",
    "\n",
    "</p>\n"
   ]
  },
  {
   "cell_type": "code",
   "execution_count": 3,
   "metadata": {
    "collapsed": true
   },
   "outputs": [],
   "source": [
    "def niz(n):\n",
    "    for i in range(n):\n",
    "        for j in range(n-i):\n",
    "            print(j+1, end=\" \")\n",
    "    print()"
   ]
  },
  {
   "cell_type": "code",
   "execution_count": 4,
   "metadata": {},
   "outputs": [
    {
     "name": "stdout",
     "output_type": "stream",
     "text": [
      "1 2 3 4 5 1 2 3 4 1 2 3 1 2 1 \n"
     ]
    }
   ],
   "source": [
    "niz(5)"
   ]
  },
  {
   "cell_type": "markdown",
   "metadata": {},
   "source": [
    "<h3><b>(T.14) Pyramid</b></h3>\n",
    "<p>\n",
    "Print the following pattern on the screen where n = 5: </br>\n",
    "\n",
    "\n",
    "        *\n",
    "       ***\n",
    "      *****\n",
    "     *******\n",
    "    *********\n",
    "</p>\n"
   ]
  },
  {
   "cell_type": "code",
   "execution_count": 5,
   "metadata": {
    "collapsed": true
   },
   "outputs": [],
   "source": [
    "def pyramid(n):\n",
    "    for i in range(1, n + 1):\n",
    "        # Print leading spaces\n",
    "        for j in range(n - i):\n",
    "            print(\" \", end=\"\")\n",
    "        \n",
    "\n",
    "        for k in range(1, 2*i):\n",
    "            print(\"*\", end=\"\")\n",
    "        print()"
   ]
  },
  {
   "cell_type": "code",
   "execution_count": 6,
   "metadata": {},
   "outputs": [
    {
     "name": "stdout",
     "output_type": "stream",
     "text": [
      "    *\n",
      "   ***\n",
      "  *****\n",
      " *******\n",
      "*********\n"
     ]
    }
   ],
   "source": [
    "pyramid(5)"
   ]
  },
  {
   "cell_type": "markdown",
   "metadata": {},
   "source": [
    "<h3><b>(T.15) Inverted pyramid</b></h3>\n",
    "<p>\n",
    "Print the following pattern on the screen where n = 5: </br>\n",
    "    \n",
    "    *********\n",
    "     *******\n",
    "      *****\n",
    "       ***\n",
    "        *\n",
    "\n",
    "</p>\n"
   ]
  },
  {
   "cell_type": "code",
   "execution_count": 7,
   "metadata": {
    "collapsed": true
   },
   "outputs": [],
   "source": [
    "def pyramid_inverted(n):\n",
    "    for i in range(1, n+1):\n",
    "        # Print leading spaces\n",
    "        for j in range(i):\n",
    "            print(\" \", end=\"\")\n",
    "        \n",
    "\n",
    "        for k in range(1, 2*(n-i)):\n",
    "            print(\"*\", end=\"\")\n",
    "        print()"
   ]
  },
  {
   "cell_type": "code",
   "execution_count": 8,
   "metadata": {},
   "outputs": [
    {
     "name": "stdout",
     "output_type": "stream",
     "text": [
      " *******\n",
      "  *****\n",
      "   ***\n",
      "    *\n",
      "     \n"
     ]
    }
   ],
   "source": [
    "pyramid_inverted(5)"
   ]
  },
  {
   "cell_type": "markdown",
   "metadata": {},
   "source": [
    "<h3><b>(T.16) ASCII ladder</b></h3>\n",
    "<p>\n",
    "Print the following pattern on the screen where n = 5: </br>\n",
    "\n",
    "A </br>\n",
    "B B </br>\n",
    "C C C </br>\n",
    "D D D D </br>\n",
    "E E E E E\n",
    "\n",
    "\n",
    "</p>\n"
   ]
  },
  {
   "cell_type": "code",
   "execution_count": 9,
   "metadata": {
    "collapsed": true
   },
   "outputs": [],
   "source": [
    "def alphabet(n):\n",
    "    a = 65\n",
    "    for i in range(1,n+1):\n",
    "        for j in range(1, i+1):\n",
    "            print((\"%c\" %(a)), end=\"\")\n",
    " #  % in print() is used as a string formatting operator and a = 65 in ASCII table is equal to uppercase a.\n",
    " # other way possible is to use a = 97 which is lowercase a and include upper() the print() function\n",
    "        a +=1\n",
    "    print()"
   ]
  },
  {
   "cell_type": "code",
   "execution_count": 10,
   "metadata": {},
   "outputs": [
    {
     "name": "stdout",
     "output_type": "stream",
     "text": [
      "ABBCCCDDDDEEEEE\n"
     ]
    }
   ],
   "source": [
    "alphabet(5)"
   ]
  },
  {
   "cell_type": "markdown",
   "metadata": {},
   "source": [
    "<h3><b>(T.17) ASCII Matrix</b></h3>\n",
    "<p>\n",
    "Print the following pattern on the screen where n = 5: </br>\n",
    "\n",
    "<table>\n",
    "<tr><td>A</td><td>A</td><td>A</td><td>A</td><td>A</td></tr>\n",
    "<tr><td>B</td><td>B</td><td>B</td><td>B</td><td>B</td></tr>\n",
    "<tr><td>C</td><td>C</td><td>C</td><td>C</td><td>C</td></tr>\n",
    "<tr><td>D</td><td>D</td><td>D</td><td>D</td><td>D</td></tr>\n",
    "<tr><td>E</td><td>E</td><td>E</td><td>E</td><td>E</td></tr>\n",
    "</table>\n",
    "\n",
    "\n",
    "</p>\n"
   ]
  },
  {
   "cell_type": "code",
   "execution_count": 13,
   "metadata": {},
   "outputs": [],
   "source": [
    "def generate_alphabet_matrix(n):\n",
    "    for i in range(n):\n",
    "        char = chr(ord('A') + i) #ord returns the integer that represents the character \n",
    "        print(' '.join([char] * n))"
   ]
  },
  {
   "cell_type": "code",
   "execution_count": 14,
   "metadata": {},
   "outputs": [
    {
     "name": "stdout",
     "output_type": "stream",
     "text": [
      "A A A A A\n",
      "B B B B B\n",
      "C C C C C\n",
      "D D D D D\n",
      "E E E E E\n"
     ]
    }
   ],
   "source": [
    "generate_alphabet_matrix(5)"
   ]
  },
  {
   "cell_type": "markdown",
   "metadata": {},
   "source": [
    "<h3><b>(T.18) Longest word</b></h3>\n",
    "<p>\n",
    "\n",
    "Find the longest word in a sentence: </br>\n",
    "\n",
    "Example: </br>\n",
    "This is the <b>longest</b> word. </br>\n",
    "\n",
    "answer: longest\n",
    "\n",
    "Note: The function you create should accept a sentence of type string\n",
    "</p>\n"
   ]
  },
  {
   "cell_type": "code",
   "execution_count": 2,
   "metadata": {
    "collapsed": true
   },
   "outputs": [],
   "source": [
    "def find_longest_word(sentence):\n",
    "# split sentence into words then after that use max() funcation over the wor \n",
    "\n",
    "    words = sentence.split()\n",
    "    longest_word = max(words, key=len)\n",
    "\n",
    "    return longest_word"
   ]
  },
  {
   "cell_type": "code",
   "execution_count": 3,
   "metadata": {},
   "outputs": [
    {
     "data": {
      "text/plain": [
       "'free'"
      ]
     },
     "execution_count": 3,
     "metadata": {},
     "output_type": "execute_result"
    }
   ],
   "source": [
    "find_longest_word('I am free')"
   ]
  },
  {
   "cell_type": "markdown",
   "metadata": {},
   "source": [
    "<h3><b>(T.19) Generate password</b></h3>\n",
    "<p>\n",
    "\n",
    "Create a function that generates easy, medium, hard passwords based on input. </br>\n",
    "Your function should accept 2 arguments which are num_of_characters and password_strength. Num of characters for the password shouldn't be less than 8. </br>\n",
    "\n",
    "easy password - when password consists only of numbers </br>\n",
    "medium password - when password consists only of numbers and letters </br>\n",
    "hard password - when password consists of numbers, letters, special characters \n",
    "\n",
    "</p>\n"
   ]
  },
  {
   "cell_type": "code",
   "execution_count": 11,
   "metadata": {
    "collapsed": true
   },
   "outputs": [],
   "source": [
    "import random\n",
    "import string\n",
    "\n",
    "# possible values for password_strength: 'weak', 'medimum', 'hard'\n",
    "\n",
    "def get_random_string(length, password_strength):\n",
    "    \n",
    "    if length < 8:\n",
    "        return print('Length shoul be > then 8')\n",
    "    \n",
    "    #only digits\n",
    "    weak = string.digits\n",
    "    weak_password =  ''.join(random.choice(weak) for i in range(length))\n",
    "    \n",
    "    #digits and letters\n",
    "    medium = string.digits + string.ascii_letters\n",
    "    medium_password =  ''.join(random.choice(medium) for i in range(length))\n",
    "    \n",
    "    #digits, letters and symbols\n",
    "    hard = string.digits + string.ascii_letters + \"!”#$%&'()*+,-./:;<=>?@[\\]^_`{|}~.\"\n",
    "    hard_password =  ''.join(random.choice(hard) for i in range(length))\n",
    "    \n",
    "    if password_strength == 'weak':\n",
    "        return weak_password\n",
    "    \n",
    "    elif password_strength == 'medium':\n",
    "        return medium_password\n",
    "    \n",
    "    elif password_strength == 'hard':\n",
    "        return hard_password\n",
    "    "
   ]
  },
  {
   "cell_type": "code",
   "execution_count": 19,
   "metadata": {},
   "outputs": [
    {
     "data": {
      "text/plain": [
       "'tLene`H=O'"
      ]
     },
     "execution_count": 19,
     "metadata": {},
     "output_type": "execute_result"
    }
   ],
   "source": [
    "get_random_string(9, 'hard')"
   ]
  },
  {
   "cell_type": "markdown",
   "metadata": {},
   "source": [
    "<h3><b>(T.20) Calculate person's age</b></h3>\n",
    "<p>\n",
    "\n",
    "Create a program that based on person's age displays if the person is of age or not. </br>\n",
    "Person is of age when they are more than 18 years old.\n",
    "\n",
    "</p>\n"
   ]
  },
  {
   "cell_type": "code",
   "execution_count": 28,
   "metadata": {
    "collapsed": true
   },
   "outputs": [],
   "source": [
    "def person_age(age):\n",
    "    if age >= 18:\n",
    "        print(\"Person is \" + str(age) + \". He is of age.\")\n",
    "    else:\n",
    "        print(\"Person is a minor! His age is: \" + str(age))"
   ]
  },
  {
   "cell_type": "code",
   "execution_count": 30,
   "metadata": {},
   "outputs": [
    {
     "name": "stdout",
     "output_type": "stream",
     "text": [
      "Person is a minor! His age is: 10\n"
     ]
    }
   ],
   "source": [
    "person_age(10)"
   ]
  },
  {
   "cell_type": "markdown",
   "metadata": {},
   "source": [
    "<h3><b>(T.21) Binary to decimal</b></h3>\n",
    "<p>\n",
    "\n",
    "Convert a binary number to a decimal number. </br>\n",
    "\n",
    "Example: </br>\n",
    "binary = 100 </br>\n",
    "decimal = 4 </br>\n",
    "\n",
    "Note: DO NOT USE BUILT-IN Python functions!!! Think about using the operators. Check the binary numerical system.\n",
    "\n",
    "</p>\n"
   ]
  },
  {
   "cell_type": "code",
   "execution_count": 31,
   "metadata": {
    "collapsed": true
   },
   "outputs": [],
   "source": [
    "def binaryToDecimal(binary):\n",
    " \n",
    "    decimal, i = 0, 0\n",
    "    while(binary != 0):\n",
    "        dec = binary % 10\n",
    "        decimal = decimal + dec * pow(2, i) # pow() function will return 2 on the power of i in the while loop\n",
    "        binary = binary//10\n",
    "        i += 1\n",
    "    print(decimal)\n",
    " "
   ]
  },
  {
   "cell_type": "code",
   "execution_count": 32,
   "metadata": {},
   "outputs": [
    {
     "name": "stdout",
     "output_type": "stream",
     "text": [
      "4\n"
     ]
    }
   ],
   "source": [
    "binaryToDecimal(100)"
   ]
  },
  {
   "cell_type": "markdown",
   "metadata": {},
   "source": [
    "<h3><b>(T.22) Decimal to binary</b></h3>\n",
    "<p>\n",
    "\n",
    "Convert a decimal number to a binary number. </br>\n",
    "\n",
    "Example: </br>\n",
    "binary = 4 </br>\n",
    "decimal = 100</br>\n",
    "\n",
    "Note: DO NOT USE BUILT-IN Python functions!!! Think about using the operators. Check the binary numerical system.\n",
    "\n",
    "</p>\n"
   ]
  },
  {
   "cell_type": "code",
   "execution_count": 30,
   "metadata": {
    "collapsed": true
   },
   "outputs": [],
   "source": [
    "#put your code here"
   ]
  },
  {
   "cell_type": "markdown",
   "metadata": {},
   "source": [
    "<h3><b>(T.23) Decimal to Hexadecimal</b></h3>\n",
    "<p>\n",
    "\n",
    "Convert a decimal number to a hexadecimal number. </br>\n",
    "\n",
    "Example: </br>\n",
    "binary = 123 </br>\n",
    "decimal = 7B</br>\n",
    "\n",
    "Note: DO NOT USE BUILT-IN Python functions!!! Think about using the operators. Check the hex numerical system.\n",
    "\n",
    "</p>\n"
   ]
  },
  {
   "cell_type": "code",
   "execution_count": 31,
   "metadata": {
    "collapsed": true
   },
   "outputs": [],
   "source": [
    "#put your code here"
   ]
  },
  {
   "cell_type": "markdown",
   "metadata": {},
   "source": [
    "<h3><b>(T.25) Binary serach</b></h3>\n",
    "<p>\n",
    "\n",
    "Create a function that implements the binary search algorithm</br>\n",
    "\n",
    "Definition of binary search: Binary search is a search algorithm used to find the position of a target value within a sorted array. It works by repeatedly dividing the search interval in half until the target value is found or the interval is empty.\n",
    "\n",
    "Example: </br>\n",
    "sorted_array = [1, 4, 7, 11, 15] </br>\n",
    "target = 11 </br>\n",
    "index = 3 (11 is on index 3 of the list)\n",
    "\n",
    "</p>\n"
   ]
  },
  {
   "cell_type": "code",
   "execution_count": 32,
   "metadata": {
    "collapsed": true
   },
   "outputs": [],
   "source": [
    "#put your code here"
   ]
  },
  {
   "cell_type": "markdown",
   "metadata": {},
   "source": [
    "<h3><b>(T.26) Prime numbers</b></h3>\n",
    "<p>\n",
    "\n",
    "Create a function that checks if a number is a prime number</br>\n",
    "Definition: A prime number is a number that can only be divided by itself and 1 without remainders</br>\n",
    "\n",
    "Example: </br>\n",
    "num = 11 </br>\n",
    "is_prime returns True\n",
    "\n",
    "</p>\n"
   ]
  },
  {
   "cell_type": "code",
   "execution_count": 11,
   "metadata": {
    "collapsed": true
   },
   "outputs": [],
   "source": [
    "import math\n",
    "\n",
    "def is_prime(n):\n",
    "    if n < 2:\n",
    "        return print(str(n) + \" is not prime\")\n",
    "    i = 2\n",
    "    '''Checking is i^2 is equale or less than n and if it is we check if the division between n and i is odd or even result '''\n",
    "    while i*i <= n:\n",
    "        if n % i == 0:\n",
    "            return print(str(n) + \" is not prime\")\n",
    "        i += 1\n",
    "    return print(str(n) + \" is prime\")\n",
    "        "
   ]
  },
  {
   "cell_type": "code",
   "execution_count": 15,
   "metadata": {},
   "outputs": [
    {
     "name": "stdout",
     "output_type": "stream",
     "text": [
      "11 is prime\n"
     ]
    }
   ],
   "source": [
    "is_prime(11)"
   ]
  },
  {
   "cell_type": "markdown",
   "metadata": {},
   "source": [
    "<h3><b>(T.27) Sort an array of 0s, 1s and 2s</b></h3>\n",
    "<p>\n",
    "\n",
    "Create a function that sorts 0s, 1s and 2s in order</br>\n",
    "\n",
    "Example: </br>\n",
    "Input: [0, 1, 2, 0, 1, 2] </br>\n",
    "Output: [0, 0, 1, 1, 2, 2] </br>\n",
    "Explanation: [0, 0, 1, 1, 2, 2] has all 0s first, then all 1s and all 2s in last.\n",
    "\n",
    "\n",
    "\n",
    "</p>\n"
   ]
  },
  {
   "cell_type": "code",
   "execution_count": 17,
   "metadata": {
    "collapsed": true
   },
   "outputs": [],
   "source": [
    "def sort_list(param):\n",
    "    param.sort() '''sort function will sort the values in the array'''\n",
    "    print(param)\n",
    "    "
   ]
  },
  {
   "cell_type": "code",
   "execution_count": 18,
   "metadata": {},
   "outputs": [
    {
     "name": "stdout",
     "output_type": "stream",
     "text": [
      "[0, 0, 1, 1, 2, 2]\n"
     ]
    }
   ],
   "source": [
    "values =  [0, 1, 2, 0, 1, 2] \n",
    "\n",
    "sort_list(values)"
   ]
  },
  {
   "cell_type": "markdown",
   "metadata": {},
   "source": [
    "<h3><b>(T.28) Fibonacci sequence</b></h3>\n",
    "<p>\n",
    "\n",
    "Create a function that prints the first n numbers of the fibonacci sequence</br>\n",
    "\n",
    "Fibonacci sequence looks like the below for n = 10: </br>\n",
    "[0, 1, 1, 2, 3, 5, 8, 13, 21, 34]\n",
    "\n",
    "\n",
    "\n",
    "</p>\n"
   ]
  },
  {
   "cell_type": "code",
   "execution_count": 5,
   "metadata": {
    "collapsed": true
   },
   "outputs": [],
   "source": [
    "   ''' Fibonacci(n) will return only one specific fibonacci number depending on the n parameter value '''\n",
    "\n",
    "def Fibonacci(n):\n",
    "   \n",
    "    if n < 0:\n",
    "        print(\"Incorrect input\")\n",
    "\n",
    "    elif n == 0:\n",
    "        return 0\n",
    " \n",
    "    elif n == 1 or n == 2:\n",
    "        return 1\n",
    " \n",
    "    else:\n",
    "        return (Fibonacci(n-1) + Fibonacci(n-2))\n",
    "    \n",
    "\n",
    "    ''' Fibonacci_final(n) will return the list of Fibonacci sequence number in the range of n parameter '''\n",
    "def Fibonacci_final(n):\n",
    "    for i in range(n):\n",
    "        if i == 0:\n",
    "            print(0)\n",
    "        elif i == 1 or i ==2:\n",
    "            print(1)\n",
    "        else:\n",
    "            print(Fibonacci(i-1) + Fibonacci(i-2))\n",
    "            "
   ]
  },
  {
   "cell_type": "code",
   "execution_count": 7,
   "metadata": {},
   "outputs": [
    {
     "name": "stdout",
     "output_type": "stream",
     "text": [
      "0\n",
      "1\n",
      "1\n",
      "2\n",
      "3\n",
      "5\n",
      "8\n",
      "13\n",
      "21\n",
      "34\n"
     ]
    }
   ],
   "source": [
    "Fibonacci_final(10)\n",
    "    \n",
    "\n"
   ]
  },
  {
   "cell_type": "markdown",
   "metadata": {},
   "source": [
    "<h3><b>(T.29) Diagonal pattern</b></h3>\n",
    "<p>\n",
    "\n",
    "Create a function accepting n as parameter that generates a 2 dimensional array(list) with the following contents</br>\n",
    "\n",
    "When n = 10 </br>\n",
    "\n",
    "[9, 8, 7, 6, 5, 4, 3, 2, 1, 0] </br>\n",
    "[8, 7, 6, 5, 4, 3, 2, 1, 0, 0] </br>\n",
    "[7, 6, 5, 4, 3, 2, 1, 0, 0, 0] </br>\n",
    "[6, 5, 4, 3, 2, 1, 0, 0, 0, 0] </br>\n",
    "[5, 4, 3, 2, 1, 0, 0, 0, 0, 0] </br>\n",
    "[4, 3, 2, 1, 0, 0, 0, 0, 0, 0] </br>\n",
    "[3, 2, 1, 0, 0, 0, 0, 0, 0, 0] </br>\n",
    "[2, 1, 0, 0, 0, 0, 0, 0, 0, 0] </br>\n",
    "[1, 0, 0, 0, 0, 0, 0, 0, 0, 0] </br>\n",
    "[0, 0, 0, 0, 0, 0, 0, 0, 0, 0]\n",
    "\n",
    "\n",
    "\n",
    "</p>\n"
   ]
  },
  {
   "cell_type": "code",
   "execution_count": 3,
   "metadata": {
    "collapsed": true
   },
   "outputs": [],
   "source": [
    "import numpy as np\n",
    "\n",
    "def matrix(n):\n",
    "    matrix = [[max(i-j, 0) for j in range(n)] # gets the value for the columns in the specific row\n",
    "              for i in range(n)] # iterates over the row index\n",
    "    for row in matrix:\n",
    "        return np.flipud(matrix) # flipping the result matrix along axis 0"
   ]
  },
  {
   "cell_type": "code",
   "execution_count": 4,
   "metadata": {},
   "outputs": [
    {
     "data": {
      "text/plain": [
       "array([[9, 8, 7, 6, 5, 4, 3, 2, 1, 0],\n",
       "       [8, 7, 6, 5, 4, 3, 2, 1, 0, 0],\n",
       "       [7, 6, 5, 4, 3, 2, 1, 0, 0, 0],\n",
       "       [6, 5, 4, 3, 2, 1, 0, 0, 0, 0],\n",
       "       [5, 4, 3, 2, 1, 0, 0, 0, 0, 0],\n",
       "       [4, 3, 2, 1, 0, 0, 0, 0, 0, 0],\n",
       "       [3, 2, 1, 0, 0, 0, 0, 0, 0, 0],\n",
       "       [2, 1, 0, 0, 0, 0, 0, 0, 0, 0],\n",
       "       [1, 0, 0, 0, 0, 0, 0, 0, 0, 0],\n",
       "       [0, 0, 0, 0, 0, 0, 0, 0, 0, 0]])"
      ]
     },
     "execution_count": 4,
     "metadata": {},
     "output_type": "execute_result"
    }
   ],
   "source": [
    "matrix(10)"
   ]
  },
  {
   "cell_type": "markdown",
   "metadata": {},
   "source": [
    "<h3><b>(T.30) Sum matrix diagonal</b></h3>\n",
    "<p>\n",
    "\n",
    "Generate a matrix with each number incremented by 1. Calculate the principal diagonal of the matrix</br>\n",
    "\n",
    "Example: </br>\n",
    "\n",
    "[0, 1, 2] </br>\n",
    "[3, 4, 5] </br>\n",
    "[6, 7, 8] </br>\n",
    "\n",
    "result = 0 + 4 + 8 = 12\n",
    "\n",
    "\n",
    "\n",
    "</p>\n"
   ]
  },
  {
   "cell_type": "code",
   "execution_count": 8,
   "metadata": {
    "collapsed": true
   },
   "outputs": [],
   "source": [
    "def matrix_calculate_diagonal(n):\n",
    "    matrix = [[i * n + j for j in range(n)] for i in range(n)] #calculating the matrix based on n \n",
    "    sum_diagonal = sum([matrix[i][j] if i==j else 0 for i in range(n) for j in range(n)]) #calculating the sum of the diagonal values\n",
    "    for values in matrix:\n",
    "        print(\"Sum of diagonal values is: \" + str(sum_diagonal))\n",
    "        return matrix"
   ]
  },
  {
   "cell_type": "code",
   "execution_count": 10,
   "metadata": {},
   "outputs": [
    {
     "name": "stdout",
     "output_type": "stream",
     "text": [
      "Sum of diagonal values is: 60\n"
     ]
    },
    {
     "data": {
      "text/plain": [
       "[[0, 1, 2, 3, 4],\n",
       " [5, 6, 7, 8, 9],\n",
       " [10, 11, 12, 13, 14],\n",
       " [15, 16, 17, 18, 19],\n",
       " [20, 21, 22, 23, 24]]"
      ]
     },
     "execution_count": 10,
     "metadata": {},
     "output_type": "execute_result"
    }
   ],
   "source": [
    "matrix_calculate_diagonal(5)"
   ]
  }
 ],
 "metadata": {
  "kernelspec": {
   "display_name": "Python 3",
   "language": "python",
   "name": "python3"
  },
  "language_info": {
   "codemirror_mode": {
    "name": "ipython",
    "version": 3
   },
   "file_extension": ".py",
   "mimetype": "text/x-python",
   "name": "python",
   "nbconvert_exporter": "python",
   "pygments_lexer": "ipython3",
   "version": "3.6.2"
  }
 },
 "nbformat": 4,
 "nbformat_minor": 2
}
